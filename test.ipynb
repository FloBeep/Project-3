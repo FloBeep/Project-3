{
 "cells": [
  {
   "cell_type": "code",
   "execution_count": 3,
   "metadata": {},
   "outputs": [],
   "source": [
    "#import dependencies\n",
    "import os\n",
    "import pandas as pd\n",
    "from pathlib import Path"
   ]
  },
  {
   "cell_type": "code",
   "execution_count": 13,
   "metadata": {},
   "outputs": [],
   "source": [
    "#import files fron resources\n",
    "csv_path = Path(\"Resources/longitude-latitude.csv\")\n",
    "csv_path1= Path(\"Resources/Forbes_Billionaires.csv\")"
   ]
  },
  {
   "cell_type": "code",
   "execution_count": 14,
   "metadata": {},
   "outputs": [],
   "source": [
    "#read both csv files\n",
    "coordinates_df=pd.read_csv(csv_path, encoding=\"utf-8\")\n",
    "billis_df= pd.read_csv(csv_path1)"
   ]
  },
  {
   "cell_type": "code",
   "execution_count": 15,
   "metadata": {},
   "outputs": [
    {
     "name": "stdout",
     "output_type": "stream",
     "text": [
      "<class 'pandas.core.frame.DataFrame'>\n",
      "RangeIndex: 321 entries, 0 to 320\n",
      "Data columns (total 14 columns):\n",
      " #   Column                Non-Null Count  Dtype  \n",
      "---  ------                --------------  -----  \n",
      " 0   Country               321 non-null    object \n",
      " 1   ISO-ALPHA-3           313 non-null    object \n",
      " 2   ISO-ALPHA-2           291 non-null    object \n",
      " 3   IOC                   263 non-null    object \n",
      " 4   FIFA                  265 non-null    object \n",
      " 5   Latitude              320 non-null    float64\n",
      " 6   Longitude             320 non-null    float64\n",
      " 7   ISO-Name              321 non-null    int64  \n",
      " 8   Historical            321 non-null    int64  \n",
      " 9   WikiData_ID           321 non-null    object \n",
      " 10  WikiData_Latitude     321 non-null    float64\n",
      " 11  WikiData_Longitude    321 non-null    float64\n",
      " 12  WikiData_Label        321 non-null    object \n",
      " 13  WikiData_Description  321 non-null    object \n",
      "dtypes: float64(4), int64(2), object(8)\n",
      "memory usage: 35.2+ KB\n"
     ]
    }
   ],
   "source": [
    "#view coordinates_df info\n",
    "coordinates_df.info()"
   ]
  },
  {
   "cell_type": "code",
   "execution_count": 17,
   "metadata": {},
   "outputs": [
    {
     "data": {
      "text/plain": [
       "Country                  0\n",
       "ISO-ALPHA-3              8\n",
       "ISO-ALPHA-2             30\n",
       "IOC                     58\n",
       "FIFA                    56\n",
       "Latitude                 1\n",
       "Longitude                1\n",
       "ISO-Name                 0\n",
       "Historical               0\n",
       "WikiData_ID              0\n",
       "WikiData_Latitude        0\n",
       "WikiData_Longitude       0\n",
       "WikiData_Label           0\n",
       "WikiData_Description     0\n",
       "dtype: int64"
      ]
     },
     "execution_count": 17,
     "metadata": {},
     "output_type": "execute_result"
    }
   ],
   "source": [
    "#check for null values in df\n",
    "coordinates_df.isnull().sum()"
   ]
  },
  {
   "cell_type": "code",
   "execution_count": 16,
   "metadata": {},
   "outputs": [
    {
     "name": "stdout",
     "output_type": "stream",
     "text": [
      "<class 'pandas.core.frame.DataFrame'>\n",
      "RangeIndex: 2600 entries, 0 to 2599\n",
      "Data columns (total 7 columns):\n",
      " #   Column    Non-Null Count  Dtype  \n",
      "---  ------    --------------  -----  \n",
      " 0   Rank      2600 non-null   int64  \n",
      " 1   Name      2600 non-null   object \n",
      " 2   Networth  2600 non-null   float64\n",
      " 3   Age       2600 non-null   int64  \n",
      " 4   Country   2600 non-null   object \n",
      " 5   Source    2600 non-null   object \n",
      " 6   Industry  2600 non-null   object \n",
      "dtypes: float64(1), int64(2), object(4)\n",
      "memory usage: 142.3+ KB\n"
     ]
    }
   ],
   "source": [
    "#view Billionaiare csv\n",
    "billis_df.info()"
   ]
  },
  {
   "cell_type": "code",
   "execution_count": 18,
   "metadata": {},
   "outputs": [],
   "source": [
    "#Merge files to add Latitude and Longitude\n",
    "Merged_df = pd.merge(billis_df, coordinates_df[['Country','Latitude', 'Longitude']], on= 'Country', how='left')"
   ]
  },
  {
   "cell_type": "code",
   "execution_count": 19,
   "metadata": {},
   "outputs": [
    {
     "data": {
      "text/html": [
       "<div>\n",
       "<style scoped>\n",
       "    .dataframe tbody tr th:only-of-type {\n",
       "        vertical-align: middle;\n",
       "    }\n",
       "\n",
       "    .dataframe tbody tr th {\n",
       "        vertical-align: top;\n",
       "    }\n",
       "\n",
       "    .dataframe thead th {\n",
       "        text-align: right;\n",
       "    }\n",
       "</style>\n",
       "<table border=\"1\" class=\"dataframe\">\n",
       "  <thead>\n",
       "    <tr style=\"text-align: right;\">\n",
       "      <th></th>\n",
       "      <th>Rank</th>\n",
       "      <th>Name</th>\n",
       "      <th>Networth</th>\n",
       "      <th>Age</th>\n",
       "      <th>Country</th>\n",
       "      <th>Source</th>\n",
       "      <th>Industry</th>\n",
       "      <th>Latitude</th>\n",
       "      <th>Longitude</th>\n",
       "    </tr>\n",
       "  </thead>\n",
       "  <tbody>\n",
       "    <tr>\n",
       "      <th>0</th>\n",
       "      <td>1</td>\n",
       "      <td>Elon Musk</td>\n",
       "      <td>219.0</td>\n",
       "      <td>50</td>\n",
       "      <td>United States</td>\n",
       "      <td>Tesla, SpaceX</td>\n",
       "      <td>Automotive</td>\n",
       "      <td>37.090240</td>\n",
       "      <td>-95.712891</td>\n",
       "    </tr>\n",
       "    <tr>\n",
       "      <th>1</th>\n",
       "      <td>2</td>\n",
       "      <td>Jeff Bezos</td>\n",
       "      <td>171.0</td>\n",
       "      <td>58</td>\n",
       "      <td>United States</td>\n",
       "      <td>Amazon</td>\n",
       "      <td>Technology</td>\n",
       "      <td>37.090240</td>\n",
       "      <td>-95.712891</td>\n",
       "    </tr>\n",
       "    <tr>\n",
       "      <th>2</th>\n",
       "      <td>3</td>\n",
       "      <td>Bernard Arnault &amp; family</td>\n",
       "      <td>158.0</td>\n",
       "      <td>73</td>\n",
       "      <td>France</td>\n",
       "      <td>LVMH</td>\n",
       "      <td>Fashion &amp; Retail</td>\n",
       "      <td>46.227638</td>\n",
       "      <td>2.213749</td>\n",
       "    </tr>\n",
       "    <tr>\n",
       "      <th>3</th>\n",
       "      <td>4</td>\n",
       "      <td>Bill Gates</td>\n",
       "      <td>129.0</td>\n",
       "      <td>66</td>\n",
       "      <td>United States</td>\n",
       "      <td>Microsoft</td>\n",
       "      <td>Technology</td>\n",
       "      <td>37.090240</td>\n",
       "      <td>-95.712891</td>\n",
       "    </tr>\n",
       "    <tr>\n",
       "      <th>4</th>\n",
       "      <td>5</td>\n",
       "      <td>Warren Buffett</td>\n",
       "      <td>118.0</td>\n",
       "      <td>91</td>\n",
       "      <td>United States</td>\n",
       "      <td>Berkshire Hathaway</td>\n",
       "      <td>Finance &amp; Investments</td>\n",
       "      <td>37.090240</td>\n",
       "      <td>-95.712891</td>\n",
       "    </tr>\n",
       "  </tbody>\n",
       "</table>\n",
       "</div>"
      ],
      "text/plain": [
       "   Rank                        Name  Networth  Age        Country  \\\n",
       "0      1                 Elon Musk      219.0   50  United States   \n",
       "1      2                Jeff Bezos      171.0   58  United States   \n",
       "2      3  Bernard Arnault & family      158.0   73         France   \n",
       "3      4                Bill Gates      129.0   66  United States   \n",
       "4      5            Warren Buffett      118.0   91  United States   \n",
       "\n",
       "               Source                Industry   Latitude  Longitude  \n",
       "0       Tesla, SpaceX             Automotive   37.090240 -95.712891  \n",
       "1              Amazon             Technology   37.090240 -95.712891  \n",
       "2                LVMH       Fashion & Retail   46.227638   2.213749  \n",
       "3           Microsoft             Technology   37.090240 -95.712891  \n",
       "4  Berkshire Hathaway  Finance & Investments   37.090240 -95.712891  "
      ]
     },
     "execution_count": 19,
     "metadata": {},
     "output_type": "execute_result"
    }
   ],
   "source": [
    "#merged file with Lat and Long\n",
    "Merged_df.head()"
   ]
  },
  {
   "cell_type": "code",
   "execution_count": 21,
   "metadata": {},
   "outputs": [],
   "source": [
    "# Export to .csv file for manual inspection\n",
    "Merged_df.to_csv('Merged_df.csv', index=False)"
   ]
  }
 ],
 "metadata": {
  "kernelspec": {
   "display_name": "base",
   "language": "python",
   "name": "python3"
  },
  "language_info": {
   "codemirror_mode": {
    "name": "ipython",
    "version": 3
   },
   "file_extension": ".py",
   "mimetype": "text/x-python",
   "name": "python",
   "nbconvert_exporter": "python",
   "pygments_lexer": "ipython3",
   "version": "3.12.4"
  }
 },
 "nbformat": 4,
 "nbformat_minor": 2
}
